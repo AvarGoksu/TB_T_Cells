{
 "cells": [
  {
   "cell_type": "code",
   "execution_count": 1,
   "metadata": {
    "tags": []
   },
   "outputs": [],
   "source": [
    "import scanpy as sc\n",
    "import numpy as np\n",
    "import pandas as pd\n",
    "import seaborn as sns\n",
    "from matplotlib.pyplot import rc_context\n",
    "import matplotlib as mpl\n",
    "import matplotlib.pyplot as plt\n",
    "\n",
    "\n"
   ]
  },
  {
   "cell_type": "code",
   "execution_count": 2,
   "metadata": {
    "jupyter": {
     "outputs_hidden": false
    },
    "pycharm": {
     "name": "#%%\n"
    }
   },
   "outputs": [
    {
     "name": "stdout",
     "output_type": "stream",
     "text": [
      "scanpy==1.8.2 anndata==0.7.6 umap==0.5.2 numpy==1.21.2 scipy==1.7.1 pandas==1.3.3 scikit-learn==1.0.1 statsmodels==0.13.0 python-igraph==0.9.6 pynndescent==0.5.4\n"
     ]
    }
   ],
   "source": [
    "sc.settings.verbosity = 3             # verbosity: errors (0), warnings (1), info (2), hints (3)\n",
    "sc.logging.print_header()\n",
    "sc.settings.set_figure_params(dpi = 160, dpi_save = 180, \n",
    "                              vector_friendly = True, format = 'svg', facecolor=\"white\")"
   ]
  },
  {
   "cell_type": "code",
   "execution_count": 3,
   "metadata": {
    "jupyter": {
     "outputs_hidden": false
    },
    "pycharm": {
     "name": "#%%\n"
    }
   },
   "outputs": [
    {
     "data": {
      "text/plain": [
       "AnnData object with n_obs × n_vars = 500089 × 33538\n",
       "    obs: 'cell_id', 'nUMI', 'nGene', 'percent_mito', 'batch', 'TB_status', 'UMAP_1', 'UMAP_2', 'cluster_name', 'cluster_ids', 'donor'\n",
       "    obsm: 'protein_expression'"
      ]
     },
     "execution_count": 3,
     "metadata": {},
     "output_type": "execute_result"
    }
   ],
   "source": [
    "rna = sc.read(\"/Users/GoksuAvar/Desktop/TBproject/Lung_TB_T_Cells_CITESEQ_RNA.h5ad\")\n",
    "protein = sc.read(\"/Users/GoksuAvar/Desktop/TBproject/Lung_TB_T_Cells_CITESEQ_Protein.h5ad\")\n",
    "adata = rna\n",
    "adata.obsm[\"protein_expression\"] = protein\n",
    "adata.var_names_make_unique()\n",
    "adata.raw = adata\n",
    "adata"
   ]
  },
  {
   "cell_type": "code",
   "execution_count": 4,
   "metadata": {},
   "outputs": [],
   "source": [
    "adata.layers[\"counts\"] = adata.X.copy()"
   ]
  },
  {
   "cell_type": "code",
   "execution_count": 5,
   "metadata": {},
   "outputs": [],
   "source": [
    "adata.obsm[\"protein_expression\"] = adata.obsm[\"protein_expression\"].X.toarray()"
   ]
  },
  {
   "cell_type": "code",
   "execution_count": null,
   "metadata": {
    "jupyter": {
     "outputs_hidden": false
    },
    "pycharm": {
     "name": "#%%\n"
    }
   },
   "outputs": [
    {
     "name": "stdout",
     "output_type": "stream",
     "text": [
      "normalizing counts per cell\n"
     ]
    }
   ],
   "source": [
    "sc.pl.highest_expr_genes(adata, n_top=20)"
   ]
  },
  {
   "cell_type": "code",
   "execution_count": null,
   "metadata": {
    "jupyter": {
     "outputs_hidden": false
    },
    "pycharm": {
     "name": "#%%\n"
    }
   },
   "outputs": [],
   "source": [
    "sc.pl.highest_expr_genes(protein, n_top=31)"
   ]
  },
  {
   "cell_type": "code",
   "execution_count": null,
   "metadata": {
    "jupyter": {
     "outputs_hidden": false
    },
    "pycharm": {
     "name": "#%%\n"
    }
   },
   "outputs": [],
   "source": [
    "adata.var['mt'] = adata.var_names.str.startswith('MT-')\n",
    "adata.var['ribo'] = adata.var_names.str.startswith('RPS','RPL')\n",
    "sc.pp.calculate_qc_metrics(adata, qc_vars=['mt', \"ribo\"], percent_top=None, log1p=False, inplace=True)\n",
    "\n"
   ]
  },
  {
   "cell_type": "code",
   "execution_count": null,
   "metadata": {
    "jupyter": {
     "outputs_hidden": false
    },
    "pycharm": {
     "name": "#%%\n"
    }
   },
   "outputs": [],
   "source": [
    "sc.pl.violin(adata, ['n_genes_by_counts', 'total_counts', 'pct_counts_mt', \"pct_counts_ribo\"],\n",
    "             jitter=0.1, multi_panel=True, size=1)"
   ]
  },
  {
   "cell_type": "code",
   "execution_count": null,
   "metadata": {},
   "outputs": [],
   "source": [
    "sc.pl.scatter(adata, x=\"UMAP_1\", y=\"UMAP_2\", color = \"pct_counts_mt\", color_map=\"RdPu\")\n",
    "sc.pl.scatter(adata, x=\"UMAP_1\", y=\"UMAP_2\", color = \"percent_mito\", color_map=\"RdPu\")\n",
    "sc.pl.scatter(adata, x=\"UMAP_1\", y=\"UMAP_2\", color = \"pct_counts_ribo\", color_map=\"RdPu\")"
   ]
  },
  {
   "cell_type": "code",
   "execution_count": null,
   "metadata": {},
   "outputs": [],
   "source": [
    "sc.pl.scatter(adata, x=\"UMAP_1\", y=\"UMAP_2\", color = \"total_counts\", color_map=\"RdPu\")\n",
    "sc.pl.scatter(adata, x=\"UMAP_1\", y=\"UMAP_2\", color = \"n_genes_by_counts\", color_map=\"RdPu\")"
   ]
  },
  {
   "cell_type": "code",
   "execution_count": null,
   "metadata": {
    "jupyter": {
     "outputs_hidden": false
    },
    "pycharm": {
     "name": "#%%\n"
    }
   },
   "outputs": [],
   "source": [
    "sc.pl.scatter(adata, x='total_counts', y='pct_counts_mt')\n",
    "sc.pl.scatter(adata, x='total_counts', y='pct_counts_ribo')\n",
    "sc.pl.scatter(adata, x='total_counts', y='n_genes_by_counts', color=\"pct_counts_mt\", color_map=\"RdPu\")"
   ]
  },
  {
   "cell_type": "code",
   "execution_count": null,
   "metadata": {},
   "outputs": [],
   "source": [
    "sns.histplot(adata.obs[\"n_genes_by_counts\"], kde=True)\n"
   ]
  },
  {
   "cell_type": "code",
   "execution_count": null,
   "metadata": {},
   "outputs": [],
   "source": [
    "sns.histplot(adata.obs[\"total_counts\"], kde=True)"
   ]
  },
  {
   "cell_type": "code",
   "execution_count": null,
   "metadata": {},
   "outputs": [],
   "source": [
    "sns.histplot(adata.obs[\"pct_counts_mt\"], kde=True)"
   ]
  },
  {
   "cell_type": "code",
   "execution_count": null,
   "metadata": {},
   "outputs": [],
   "source": [
    "sns.histplot(adata.obs[\"pct_counts_ribo\"], kde=True)"
   ]
  },
  {
   "cell_type": "code",
   "execution_count": null,
   "metadata": {},
   "outputs": [],
   "source": [
    "protein.var[\"control\"] = protein.var_names.str.contains(\"Mouse\")\n",
    "sc.pp.calculate_qc_metrics(protein,percent_top=(5, 10, 15), var_type=\"antibodies\", \n",
    "                           qc_vars=(\"control\",),inplace=True)"
   ]
  },
  {
   "cell_type": "code",
   "execution_count": null,
   "metadata": {
    "jupyter": {
     "outputs_hidden": false
    },
    "pycharm": {
     "name": "#%%\n"
    }
   },
   "outputs": [],
   "source": [
    "sns.jointplot(\"log1p_total_counts\", \"n_antibodies_by_counts\", protein.obs, kind=\"hex\", norm=mpl.colors.LogNorm())\n",
    "sns.jointplot(\"log1p_total_counts\", \"log1p_total_counts_control\", protein.obs, kind=\"hex\", norm=mpl.colors.LogNorm())"
   ]
  },
  {
   "cell_type": "code",
   "execution_count": null,
   "metadata": {},
   "outputs": [],
   "source": [
    "scrublet_predicted = pd.read_csv(\"/Users/GoksuAvar/Desktop/TBproject/Scrublet_predicted.tsv\", sep=\"\\t\")\n",
    "scrublet_predicted.set_axis(adata.obs_names, axis=0)\n",
    "scrublet_predicted = scrublet_predicted.assign(scrublet_predicted_doublets_binary = [0 if \n",
    "                                                                                     i == False \n",
    "                                                                                     else 1 \n",
    "                                                                                     for i in scrublet_predicted['scrublet_predicted_doublets']])\n",
    "scrublet_predicted"
   ]
  },
  {
   "cell_type": "code",
   "execution_count": null,
   "metadata": {},
   "outputs": [],
   "source": [
    "adata.obs[\"scrublet_doublet_scores\"] = scrublet_predicted.scrublet_doublet_scores.set_axis(adata.obs_names, axis=0)\n",
    "adata.obs[\"scrublet_predicted_doublets\"] = scrublet_predicted.scrublet_predicted_doublets.set_axis(adata.obs_names, axis=0)\n",
    "adata.obs[\"scrublet_predicted_doublets_binary\"] = scrublet_predicted.scrublet_predicted_doublets_binary.set_axis(adata.obs_names, axis=0)"
   ]
  },
  {
   "cell_type": "code",
   "execution_count": null,
   "metadata": {},
   "outputs": [],
   "source": [
    "scrublet_predicted.scrublet_doublet_scores.shape"
   ]
  },
  {
   "cell_type": "code",
   "execution_count": null,
   "metadata": {},
   "outputs": [],
   "source": [
    "adata.obs.scrublet_predicted_doublets_binary.describe()"
   ]
  },
  {
   "cell_type": "code",
   "execution_count": null,
   "metadata": {},
   "outputs": [],
   "source": [
    "sc.pl.scatter(adata, x=\"UMAP_1\", y=\"UMAP_2\", color=\"scrublet_doublet_scores\", color_map=\"RdPu\")\n",
    "sc.pl.scatter(adata, x=\"UMAP_1\", y=\"UMAP_2\", color=\"scrublet_predicted_doublets_binary\", color_map=\"RdPu\")\n"
   ]
  },
  {
   "cell_type": "code",
   "execution_count": null,
   "metadata": {},
   "outputs": [],
   "source": [
    "adata_scr = adata[adata.obs.scrublet_predicted_doublets_binary == 0, :]"
   ]
  },
  {
   "cell_type": "code",
   "execution_count": null,
   "metadata": {},
   "outputs": [],
   "source": [
    "adata_scr"
   ]
  },
  {
   "cell_type": "code",
   "execution_count": null,
   "metadata": {},
   "outputs": [],
   "source": [
    "sc.pl.violin(adata_scr, ['n_genes_by_counts', 'total_counts', 'pct_counts_mt', \"pct_counts_ribo\"],\n",
    "             jitter=0.1, multi_panel=True, size=1)"
   ]
  },
  {
   "cell_type": "code",
   "execution_count": null,
   "metadata": {},
   "outputs": [],
   "source": [
    "solo_predicted = pd.read_csv(\"/Users/GoksuAvar/Desktop/TBproject/SOLO_predicted.tsv\", sep=\"\\t\")\n",
    "solo_predicted.set_axis(adata.obs_names, axis=0)\n",
    "solo_predicted"
   ]
  },
  {
   "cell_type": "code",
   "execution_count": null,
   "metadata": {},
   "outputs": [],
   "source": [
    "adata.obs[\"solo_doublet_scores\"] = solo_predicted.doublet.set_axis(adata.obs_names, axis=0)\n",
    "adata.obs[\"solo_singlet_scores\"] = solo_predicted.singlet.set_axis(adata.obs_names, axis=0)"
   ]
  },
  {
   "cell_type": "code",
   "execution_count": null,
   "metadata": {},
   "outputs": [],
   "source": [
    "adata.obs.solo_doublet_scores.describe()"
   ]
  },
  {
   "cell_type": "code",
   "execution_count": null,
   "metadata": {},
   "outputs": [],
   "source": [
    "adata.obs.solo_singlet_scores.describe()"
   ]
  },
  {
   "cell_type": "code",
   "execution_count": null,
   "metadata": {
    "scrolled": true
   },
   "outputs": [],
   "source": [
    "sc.pl.scatter(adata, x=\"UMAP_1\", y=\"UMAP_2\", color=\"solo_doublet_scores\", color_map=\"RdPu\")\n",
    "sc.pl.scatter(adata, x=\"UMAP_1\", y=\"UMAP_2\", color=\"solo_singlet_scores\", color_map=\"RdPu\")\n",
    "\n"
   ]
  },
  {
   "cell_type": "code",
   "execution_count": null,
   "metadata": {
    "jupyter": {
     "outputs_hidden": false
    },
    "pycharm": {
     "name": "#%%\n"
    }
   },
   "outputs": [],
   "source": [
    "#gene_list = ['IL2RA', 'CD8A', 'CD4', \"KLRB1\", \"DPP4\", \"PTGDR2\", \"IL22\", \"IL17A\"]\n",
    "\n",
    "#for i in gene_list:\n",
    " #   sc.pl.scatter(adata, x=\"UMAP_1\", y=\"UMAP_2\", color=i, color_map=\"RdPu\")"
   ]
  },
  {
   "cell_type": "code",
   "execution_count": null,
   "metadata": {},
   "outputs": [],
   "source": [
    "adata.obs[\"batch\"] = adata.obs[\"batch\"].astype(\"category\") "
   ]
  },
  {
   "cell_type": "code",
   "execution_count": null,
   "metadata": {},
   "outputs": [],
   "source": [
    "protein.obs[\"batch\"] = protein.obs[\"batch\"].astype(\"category\") "
   ]
  },
  {
   "cell_type": "code",
   "execution_count": null,
   "metadata": {},
   "outputs": [],
   "source": [
    "sc.pp.normalize_total(adata, target_sum=1e4)"
   ]
  },
  {
   "cell_type": "code",
   "execution_count": null,
   "metadata": {},
   "outputs": [],
   "source": [
    "with rc_context({'figure.figsize': (12, 4)}):\n",
    "    sc.pl.violin(protein, keys=[\"CD4_protein\"], groupby=\"batch\")"
   ]
  },
  {
   "cell_type": "code",
   "execution_count": null,
   "metadata": {},
   "outputs": [],
   "source": [
    "with rc_context({'figure.figsize': (12, 4)}):\n",
    "    sc.pl.violin(adata, keys=[\"n_genes_by_counts\"], groupby=\"batch\", use_raw=True, log=False)"
   ]
  },
  {
   "cell_type": "code",
   "execution_count": null,
   "metadata": {},
   "outputs": [],
   "source": [
    "with rc_context({'figure.figsize': (4, 4)}):\n",
    "    sc.pl.violin(adata, keys=[\"n_genes_by_counts\", \"total_counts\", 'pct_counts_mt', \"pct_counts_ribo\"], groupby=\"TB_status\", use_raw=True, log=False, multipanel=True)"
   ]
  },
  {
   "cell_type": "code",
   "execution_count": null,
   "metadata": {},
   "outputs": [],
   "source": [
    "adata.obs[\"donor\"].describe()"
   ]
  },
  {
   "cell_type": "code",
   "execution_count": null,
   "metadata": {},
   "outputs": [],
   "source": [
    "print(adata.obs.solo_doublet_scores.describe())\n",
    "fig = sns.histplot(adata.obs[\"solo_doublet_scores\"], kde=True)\n",
    "mean = adata.obs[\"solo_doublet_scores\"].mean()\n",
    "std = adata.obs[\"solo_doublet_scores\"].std()\n",
    "fig.axvline(mean, color='r', linestyle='--')\n",
    "fig.axvline(mean+2*std, color='g', linestyle='--')\n"
   ]
  },
  {
   "cell_type": "code",
   "execution_count": null,
   "metadata": {},
   "outputs": [],
   "source": [
    "sc.pl.scatter(adata[adata.obs[\"solo_doublet_scores\"]>(mean+2*std),:], x=\"UMAP_1\", y=\"UMAP_2\", \n",
    "              color=\"solo_doublet_scores\", color_map=\"viridis\", size=120000/500089)\n"
   ]
  },
  {
   "cell_type": "code",
   "execution_count": null,
   "metadata": {},
   "outputs": [],
   "source": [
    "print(adata.obs.n_genes_by_counts.describe())\n",
    "fig = sns.histplot(adata.obs[\"n_genes_by_counts\"], kde=True)\n",
    "mean = adata.obs[\"n_genes_by_counts\"].mean()\n",
    "std = adata.obs[\"n_genes_by_counts\"].std()\n",
    "fig.axvline(mean, color='r', linestyle='--')\n",
    "fig.axvline(mean+2*std, color='g', linestyle='--')\n"
   ]
  },
  {
   "cell_type": "code",
   "execution_count": null,
   "metadata": {},
   "outputs": [],
   "source": [
    "sc.pl.scatter(adata[adata.obs[\"n_genes_by_counts\"]>(mean+2*std),:], x=\"UMAP_1\", y=\"UMAP_2\", size=120000/500089)\n"
   ]
  },
  {
   "cell_type": "code",
   "execution_count": null,
   "metadata": {},
   "outputs": [],
   "source": [
    "sc.pl.scatter(adata, x=\"UMAP_1\", y=\"UMAP_2\", color=\"batch\", color_map=\"RdPu\")\n"
   ]
  },
  {
   "cell_type": "code",
   "execution_count": null,
   "metadata": {},
   "outputs": [],
   "source": [
    "for i in len(range(adata.obs[\"batch\"])):\n",
    "    with rc_context({'figure.figsize': (2, 2)}):\n",
    "        sc.pl.scatter(adata[adata.obs[\"batch\"]==i,:], x=\"UMAP_1\", y=\"UMAP_2\", size=120000/500089)\n"
   ]
  },
  {
   "cell_type": "code",
   "execution_count": null,
   "metadata": {},
   "outputs": [],
   "source": []
  }
 ],
 "metadata": {
  "kernelspec": {
   "display_name": "Python 3 (ipykernel)",
   "language": "python",
   "name": "python3"
  },
  "language_info": {
   "codemirror_mode": {
    "name": "ipython",
    "version": 3
   },
   "file_extension": ".py",
   "mimetype": "text/x-python",
   "name": "python",
   "nbconvert_exporter": "python",
   "pygments_lexer": "ipython3",
   "version": "3.9.7"
  }
 },
 "nbformat": 4,
 "nbformat_minor": 4
}
