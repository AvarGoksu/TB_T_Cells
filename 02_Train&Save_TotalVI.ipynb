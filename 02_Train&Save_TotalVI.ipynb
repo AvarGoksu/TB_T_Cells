{
 "cells": [
  {
   "cell_type": "code",
   "execution_count": null,
   "id": "e578fdfd-4f56-46ab-afa9-f3a1e7858130",
   "metadata": {},
   "outputs": [],
   "source": [
    "import scanpy as sc\n",
    "import scvi\n",
    "import seaborn as sns\n",
    "import matplotlib as mpl\n",
    "import random\n",
    "import matplotlib.pyplot as plt\n",
    "import torch\n",
    "import numpy as np\n",
    "from scvi.model import TOTALVI"
   ]
  },
  {
   "cell_type": "code",
   "execution_count": null,
   "id": "119edfdd-1a11-423d-acb8-cb27102a8ab0",
   "metadata": {},
   "outputs": [],
   "source": [
    "rna = sc.read(\"Lung_TB_T_Cells_CITESEQ_RNA.h5ad\")\n",
    "protein = sc.read(\"Lung_TB_T_Cells_CITESEQ_Protein.h5ad\")\n",
    "adata = rna\n",
    "adata.obsm[\"protein_expression\"] = protein\n",
    "adata.raw = adata\n",
    "adata.layers[\"counts\"] = adata.X.copy()"
   ]
  },
  {
   "cell_type": "code",
   "execution_count": null,
   "id": "9c272a58-1a9b-4562-a66e-c56ef8aa97ed",
   "metadata": {},
   "outputs": [],
   "source": [
    "adata.obsm[\"protein_expression\"] = adata.obsm[\"protein_expression\"].X.toarray()"
   ]
  },
  {
   "cell_type": "code",
   "execution_count": null,
   "id": "6c68fb5c-c8d9-4243-8d0c-4b0041207972",
   "metadata": {},
   "outputs": [],
   "source": [
    "scvi.model.TOTALVI.setup_anndata(adata, batch_key=\"batch\", protein_expression_obsm_key=\"protein_expression\", layer=\"counts\")"
   ]
  },
  {
   "cell_type": "code",
   "execution_count": null,
   "id": "ca73ea79-750b-4f02-849f-b47439be290f",
   "metadata": {},
   "outputs": [],
   "source": [
    "scvi.data.view_anndata_setup(adata)"
   ]
  },
  {
   "cell_type": "code",
   "execution_count": null,
   "id": "482b458b-c0c4-4a80-9446-8e7c76d6930c",
   "metadata": {},
   "outputs": [],
   "source": [
    "vae = scvi.model.TOTALVI(adata, latent_distribution=\"normal\")"
   ]
  },
  {
   "cell_type": "code",
   "execution_count": null,
   "id": "39dcc43a-d7f9-4d87-bbf1-721a33f8f7c4",
   "metadata": {},
   "outputs": [],
   "source": [
    "vae.train()"
   ]
  },
  {
   "cell_type": "code",
   "execution_count": null,
   "id": "c108fd8e-81e9-4f99-a7d1-61fb6a7d6c02",
   "metadata": {},
   "outputs": [],
   "source": [
    "plt.plot(vae.history[\"elbo_train\"], label=\"train\")\n",
    "plt.plot(vae.history[\"elbo_validation\"], label=\"validation\")\n",
    "plt.title(\"Negative ELBO over training epochs\")\n",
    "plt.xlim(0,10)\n",
    "plt.legend()"
   ]
  },
  {
   "cell_type": "code",
   "execution_count": null,
   "id": "844a9e0f-e0b8-4721-9f50-b35c621e9108",
   "metadata": {},
   "outputs": [],
   "source": [
    "vae.save(\"TotalVI_LatentNormal_400Epochs\")"
   ]
  }
 ],
 "metadata": {
  "kernelspec": {
   "display_name": "Python 3 (ipykernel)",
   "language": "python",
   "name": "python3"
  },
  "language_info": {
   "codemirror_mode": {
    "name": "ipython",
    "version": 3
   },
   "file_extension": ".py",
   "mimetype": "text/x-python",
   "name": "python",
   "nbconvert_exporter": "python",
   "pygments_lexer": "ipython3",
   "version": "3.9.7"
  }
 },
 "nbformat": 4,
 "nbformat_minor": 5
}
