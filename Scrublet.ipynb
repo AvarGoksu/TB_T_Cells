{
 "cells": [
  {
   "cell_type": "code",
   "execution_count": 1,
   "id": "84de5250-765e-4ffa-ac42-882c1fc57e77",
   "metadata": {},
   "outputs": [],
   "source": [
    "import scrublet as scr\n",
    "import scipy.io\n",
    "import matplotlib.pyplot as plt\n",
    "import numpy as np\n",
    "import os\n",
    "import scanpy as sc\n",
    "import pandas as pd"
   ]
  },
  {
   "cell_type": "code",
   "execution_count": 2,
   "id": "da46ad5a-ea4f-4e9d-96d8-08758823fb4f",
   "metadata": {},
   "outputs": [],
   "source": [
    "plt.rcParams['font.family'] = 'sans-serif'\n",
    "plt.rcParams['font.sans-serif'] = 'Arial'\n",
    "plt.rc('font', size=14)\n",
    "plt.rcParams['pdf.fonttype'] = 42"
   ]
  },
  {
   "cell_type": "code",
   "execution_count": 3,
   "id": "3910542f-b46e-4d5b-aeb4-c567672b173b",
   "metadata": {},
   "outputs": [
    {
     "data": {
      "text/plain": [
       "AnnData object with n_obs × n_vars = 500089 × 33538\n",
       "    obs: 'cell_id', 'nUMI', 'nGene', 'percent_mito', 'batch', 'TB_status', 'UMAP_1', 'UMAP_2', 'cluster_name', 'cluster_ids', 'donor'"
      ]
     },
     "execution_count": 3,
     "metadata": {},
     "output_type": "execute_result"
    }
   ],
   "source": [
    "rna = sc.read(\"Lung_TB_T_Cells_CITESEQ_RNA.h5ad\")\n",
    "adata = rna\n",
    "adata.var_names_make_unique()\n",
    "adata"
   ]
  },
  {
   "cell_type": "code",
   "execution_count": 4,
   "id": "b5d1b261-af05-4b01-a778-415588475e5b",
   "metadata": {},
   "outputs": [],
   "source": [
    "scrub = scr.Scrublet(adata.X)"
   ]
  },
  {
   "cell_type": "code",
   "execution_count": 5,
   "id": "a253d5bf-a998-4e1e-adb7-edd294ed1a95",
   "metadata": {},
   "outputs": [
    {
     "name": "stdout",
     "output_type": "stream",
     "text": [
      "Preprocessing...\n",
      "Simulating doublets...\n",
      "Embedding transcriptomes using PCA...\n",
      "Calculating doublet scores...\n",
      "Automatically set threshold at doublet score = 0.74\n",
      "Detected doublet rate = 0.1%\n",
      "Estimated detectable doublet fraction = 8.9%\n",
      "Overall doublet rate:\n",
      "\tExpected   = 10.0%\n",
      "\tEstimated  = 1.3%\n",
      "Elapsed time: 3995.4 seconds\n"
     ]
    }
   ],
   "source": [
    "doublet_scores, predicted_doublets = scrub.scrub_doublets(min_counts=2, \n",
    "                                                          min_cells=3, \n",
    "                                                          min_gene_variability_pctl=85, \n",
    "                                                          n_prin_comps=30)"
   ]
  },
  {
   "cell_type": "code",
   "execution_count": 6,
   "id": "9dbe29c9-5fab-4399-ba1e-42ef5a3553de",
   "metadata": {},
   "outputs": [
    {
     "data": {
      "text/plain": [
       "(array([0.10827648, 0.25437865, 0.28350046, ..., 0.18518519, 0.11484507,\n",
       "        0.24296812]),\n",
       " array([False, False, False, ..., False, False, False]))"
      ]
     },
     "execution_count": 6,
     "metadata": {},
     "output_type": "execute_result"
    }
   ],
   "source": [
    "doublet_scores, predicted_doublets"
   ]
  },
  {
   "cell_type": "code",
   "execution_count": 7,
   "id": "27942bb3-902d-4550-afb1-ef847e17796f",
   "metadata": {},
   "outputs": [],
   "source": [
    "df_scores = pd.DataFrame({'scrublet_doublet_scores': doublet_scores, 'scrublet_predicted_doublets': predicted_doublets})"
   ]
  },
  {
   "cell_type": "code",
   "execution_count": 8,
   "id": "3bcb5521-4a34-4fec-b637-3132b6e6f385",
   "metadata": {},
   "outputs": [],
   "source": [
    "df_scores.to_csv(\"Scrublet_predicted.tsv\", sep=\"\\t\")"
   ]
  },
  {
   "cell_type": "code",
   "execution_count": 9,
   "id": "debc111a-2bc0-43aa-ac21-9815e56a0e91",
   "metadata": {},
   "outputs": [
    {
     "name": "stderr",
     "output_type": "stream",
     "text": [
      "findfont: Font family ['sans-serif'] not found. Falling back to DejaVu Sans.\n",
      "findfont: Generic family 'sans-serif' not found because none of the following families were found: Arial\n",
      "findfont: Font family ['sans-serif'] not found. Falling back to DejaVu Sans.\n",
      "findfont: Generic family 'sans-serif' not found because none of the following families were found: Arial\n"
     ]
    },
    {
     "data": {
      "image/png": "[encoded data removed]",
      "text/plain": [
       "<Figure size 576x216 with 2 Axes>"
      ]
     },
     "metadata": {
      "needs_background": "light"
     },
     "output_type": "display_data"
    }
   ],
   "source": [
    "scrub.plot_histogram();"
   ]
  },
  {
   "cell_type": "code",
   "execution_count": null,
   "id": "e070d691-6dfd-4b2c-9990-3b5f6cbace35",
   "metadata": {},
   "outputs": [
    {
     "name": "stdout",
     "output_type": "stream",
     "text": [
      "Running UMAP...\n"
     ]
    }
   ],
   "source": [
    "#print('Running UMAP...')\n",
    "#scrub.set_embedding('UMAP', scr.get_umap(scrub.manifold_obs_, 10, min_dist=0.3))"
   ]
  },
  {
   "cell_type": "code",
   "execution_count": null,
   "id": "7cae2a86-0106-4fd3-bafa-52b774f270be",
   "metadata": {},
   "outputs": [],
   "source": [
    "#scrub.plot_embedding('UMAP', order_points=True);"
   ]
  },
  {
   "cell_type": "code",
   "execution_count": null,
   "id": "884e5ee0-30f8-4560-b7f5-dae26dbc0248",
   "metadata": {},
   "outputs": [],
   "source": []
  }
 ],
 "metadata": {
  "kernelspec": {
   "display_name": "Python 3 (ipykernel)",
   "language": "python",
   "name": "python3"
  },
  "language_info": {
   "codemirror_mode": {
    "name": "ipython",
    "version": 3
   },
   "file_extension": ".py",
   "mimetype": "text/x-python",
   "name": "python",
   "nbconvert_exporter": "python",
   "pygments_lexer": "ipython3",
   "version": "3.9.7"
  }
 },
 "nbformat": 4,
 "nbformat_minor": 5
}
